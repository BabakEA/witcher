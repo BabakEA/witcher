{
 "cells": [
  {
   "cell_type": "code",
   "execution_count": 25,
   "metadata": {},
   "outputs": [],
   "source": [
    "import witcher "
   ]
  },
  {
   "cell_type": "code",
   "execution_count": 26,
   "metadata": {},
   "outputs": [
    {
     "name": "stdout",
     "output_type": "stream",
     "text": [
      "Help on package witcher:\n",
      "\n",
      "NAME\n",
      "    witcher\n",
      "\n",
      "DESCRIPTION\n",
      "    ######################################\n",
      "    ####### Update : 2021-01-17     ######\n",
      "    ######################################\n",
      "\n",
      "PACKAGE CONTENTS\n",
      "    FileChooser\n",
      "    ImageToCartoon\n",
      "    Recommender\n",
      "    StockMarket\n",
      "\n",
      "FUNCTIONS\n",
      "    How_read_Witchwr()\n",
      "        from witcher import FileChooser\n",
      "            FileChooser.Filechooser ==>\n",
      "            will read the file and will returen the filename, filepath, and dataframe for\n",
      "            CSV, XLS,XLSX, SAS, and Images\n",
      "        \n",
      "            Reprort=witcher.FileChooser.filechoose()\n",
      "            Report\n",
      "        \n",
      "            report.files == > file path\n",
      "            report.df ==> dataframe\n",
      "        \n",
      "        from witcher import FileChooser, ImageToCartoon\n",
      "            img=FileChooser.Filechooser()\n",
      "            img\n",
      "        \n",
      "            image=img.df or\n",
      "            image=ImageToCartoon.Img_Reader(img.files[0]) # read image and return numpy vector\n",
      "        \n",
      "            ImageToCartoon.ImageShow(image) ### Show the image\n",
      "            Image_D=IMG_D=ImageToCartoon.Decolorization(image)\n",
      "            Blurred=Blurred(image)\n",
      "            edges=ImageToCartoon.Edgedetection(image)\n",
      "            Bluured=ImageToCartoon.Blurred(image)\n",
      "            Cartoon=Cartoon(bluured=Blurred,mask=edges)\n",
      "            or\n",
      "            Cartoon=Cartoon(bluured=Blurred,decolor=Image_D,mask=edges)\n",
      "        \n",
      "        \n",
      "        from witcher import StockMarket\n",
      "            select your stock and starting date to end date \n",
      "            df=StockMarket.Stock_Reader(stock=[\"AC.TO\"],Period=\"1D\",Start_date=\"2010-01-01\",End_date=\"Today\")\n",
      "            df=StockMarket.Dataset_Spliter(df,col=\"Close\",split=.1,Forecasting=True)\n",
      "            select the column you want to analysis and pass it to the finction\n",
      "\n",
      "FILE\n",
      "    c:\\programdata\\anaconda3\\lib\\site-packages\\witcher\\__init__.py\n",
      "\n",
      "\n"
     ]
    }
   ],
   "source": [
    "help(witcher)"
   ]
  },
  {
   "cell_type": "code",
   "execution_count": 27,
   "metadata": {},
   "outputs": [],
   "source": [
    "from witcher.FileChooser import Filechooser"
   ]
  },
  {
   "cell_type": "code",
   "execution_count": 28,
   "metadata": {},
   "outputs": [
    {
     "data": {
      "application/vnd.jupyter.widget-view+json": {
       "model_id": "873e116a5ba44318b1a06ee24d0025d4",
       "version_major": 2,
       "version_minor": 0
      },
      "text/plain": [
       "Filechooser(description='Select Files', icon='square-o', style=ButtonStyle(button_color='orange'))"
      ]
     },
     "metadata": {},
     "output_type": "display_data"
    },
    {
     "name": "stdout",
     "output_type": "stream",
     "text": [
      "C:/Witcher_doc/sampleRawSource.csv\n",
      "C:/Witcher_doc/output.xlsx\n",
      "C:/Witcher_doc/ao_monthly.txt\n",
      "C:/Witcher_doc/50words_TEST.txt\n",
      "C:/Witcher_doc/5fd4dc7d-6f19-4efd-8a12-e06c0b62977c.jpg\n"
     ]
    }
   ],
   "source": [
    "report=Filechooser()\n",
    "report"
   ]
  },
  {
   "cell_type": "code",
   "execution_count": 36,
   "metadata": {},
   "outputs": [
    {
     "data": {
      "text/plain": [
       "'C:/Witcher_doc/5fd4dc7d-6f19-4efd-8a12-e06c0b62977c.jpg'"
      ]
     },
     "execution_count": 36,
     "metadata": {},
     "output_type": "execute_result"
    }
   ],
   "source": [
    "report.files[0]"
   ]
  },
  {
   "cell_type": "code",
   "execution_count": 37,
   "metadata": {},
   "outputs": [
    {
     "data": {
      "text/plain": [
       "array([[[233, 227, 228],\n",
       "        [229, 223, 224],\n",
       "        [228, 222, 223],\n",
       "        ...,\n",
       "        [238, 234, 233],\n",
       "        [253, 249, 248],\n",
       "        [249, 245, 244]],\n",
       "\n",
       "       [[230, 224, 225],\n",
       "        [226, 220, 221],\n",
       "        [223, 217, 218],\n",
       "        ...,\n",
       "        [249, 245, 244],\n",
       "        [244, 240, 239],\n",
       "        [242, 238, 237]],\n",
       "\n",
       "       [[226, 220, 221],\n",
       "        [221, 215, 216],\n",
       "        [218, 212, 213],\n",
       "        ...,\n",
       "        [233, 229, 228],\n",
       "        [236, 232, 231],\n",
       "        [233, 229, 228]],\n",
       "\n",
       "       ...,\n",
       "\n",
       "       [[144, 140, 145],\n",
       "        [128, 124, 129],\n",
       "        [ 91,  90,  94],\n",
       "        ...,\n",
       "        [191, 180, 183],\n",
       "        [197, 186, 189],\n",
       "        [193, 182, 185]],\n",
       "\n",
       "       [[150, 149, 153],\n",
       "        [123, 122, 126],\n",
       "        [ 88,  87,  91],\n",
       "        ...,\n",
       "        [188, 177, 180],\n",
       "        [195, 184, 187],\n",
       "        [201, 190, 193]],\n",
       "\n",
       "       [[153, 152, 156],\n",
       "        [120, 119, 123],\n",
       "        [ 85,  84,  88],\n",
       "        ...,\n",
       "        [190, 179, 182],\n",
       "        [198, 187, 190],\n",
       "        [198, 187, 190]]], dtype=uint8)"
      ]
     },
     "execution_count": 37,
     "metadata": {},
     "output_type": "execute_result"
    }
   ],
   "source": [
    "report.df"
   ]
  }
 ],
 "metadata": {
  "kernelspec": {
   "display_name": "Python 3",
   "language": "python",
   "name": "python3"
  },
  "language_info": {
   "codemirror_mode": {
    "name": "ipython",
    "version": 3
   },
   "file_extension": ".py",
   "mimetype": "text/x-python",
   "name": "python",
   "nbconvert_exporter": "python",
   "pygments_lexer": "ipython3",
   "version": "3.7.6"
  }
 },
 "nbformat": 4,
 "nbformat_minor": 4
}
