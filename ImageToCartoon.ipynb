{
 "cells": [
  {
   "cell_type": "code",
   "execution_count": 1,
   "metadata": {},
   "outputs": [],
   "source": [
    "from witcher import ImageToCartoon\n",
    "from witcher import FileChooser\n",
    "import witcher"
   ]
  },
  {
   "cell_type": "code",
   "execution_count": 2,
   "metadata": {},
   "outputs": [
    {
     "data": {
      "application/vnd.jupyter.widget-view+json": {
       "model_id": "e60750198b064973a59baa31cc0889f1",
       "version_major": 2,
       "version_minor": 0
      },
      "text/plain": [
       "Filechooser(description='Select Files', icon='square-o', style=ButtonStyle(button_color='orange'))"
      ]
     },
     "metadata": {},
     "output_type": "display_data"
    },
    {
     "name": "stdout",
     "output_type": "stream",
     "text": [
      "C:/Users/babakea/Pictures/$_59 (8).JPG\n"
     ]
    }
   ],
   "source": [
    "img=FileChooser.Filechooser()\n",
    "img"
   ]
  },
  {
   "cell_type": "code",
   "execution_count": null,
   "metadata": {},
   "outputs": [],
   "source": [
    "#image=ImageToCartoon.Img_Reader(img.files[0])"
   ]
  },
  {
   "cell_type": "code",
   "execution_count": 3,
   "metadata": {},
   "outputs": [],
   "source": [
    "image=img.df"
   ]
  },
  {
   "cell_type": "code",
   "execution_count": 4,
   "metadata": {},
   "outputs": [],
   "source": [
    "IMG_D=ImageToCartoon.Decolorization(image)"
   ]
  },
  {
   "cell_type": "code",
   "execution_count": 6,
   "metadata": {},
   "outputs": [],
   "source": [
    "edges=ImageToCartoon.Edgedetection(image,line_size=9, blur_value=7)"
   ]
  },
  {
   "cell_type": "code",
   "execution_count": 12,
   "metadata": {},
   "outputs": [],
   "source": [
    "#edges\n",
    "#help(ImageToCartoon.Edgedetection)"
   ]
  },
  {
   "cell_type": "code",
   "execution_count": 10,
   "metadata": {},
   "outputs": [],
   "source": [
    "Bluured=ImageToCartoon.Blurred(image,d=7)"
   ]
  },
  {
   "cell_type": "code",
   "execution_count": 11,
   "metadata": {},
   "outputs": [
    {
     "name": "stdout",
     "output_type": "stream",
     "text": [
      "Help on function Cartoon in module witcher.ImageToCartoon:\n",
      "\n",
      "Cartoon(bluured='0', decolor='0', mask='0')\n",
      "    input : image bluured vector, mask=inage edgs vector\n",
      "    image + blurred image vector\n",
      "    \n",
      "    Example\n",
      "    \n",
      "    img =Img_Reader(filename) \n",
      "    Blurred=Blurred(img)\n",
      "    edges=Edgedetection(img)\n",
      "    Cartoon=Cartoon(bluured=Blurred,mask=edges)\n",
      "    Cartoon=Cartoon(bluured=Blurred,decolor=IMG_D,mask=edges)\n",
      "\n"
     ]
    }
   ],
   "source": [
    "#Bluured\n",
    "help(ImageToCartoon.Cartoon)"
   ]
  },
  {
   "cell_type": "code",
   "execution_count": 15,
   "metadata": {},
   "outputs": [],
   "source": [
    "Cartoon=ImageToCartoon.Cartoon(bluured=Bluured,decolor=IMG_D,mask=edges)"
   ]
  }
 ],
 "metadata": {
  "kernelspec": {
   "display_name": "Python 3",
   "language": "python",
   "name": "python3"
  },
  "language_info": {
   "codemirror_mode": {
    "name": "ipython",
    "version": 3
   },
   "file_extension": ".py",
   "mimetype": "text/x-python",
   "name": "python",
   "nbconvert_exporter": "python",
   "pygments_lexer": "ipython3",
   "version": "3.7.6"
  }
 },
 "nbformat": 4,
 "nbformat_minor": 4
}
