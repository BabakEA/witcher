{
 "cells": [
  {
   "cell_type": "code",
   "execution_count": 1,
   "metadata": {},
   "outputs": [],
   "source": [
    "import witcher as witch"
   ]
  },
  {
   "cell_type": "code",
   "execution_count": null,
   "metadata": {},
   "outputs": [],
   "source": []
  },
  {
   "cell_type": "code",
   "execution_count": 2,
   "metadata": {},
   "outputs": [],
   "source": [
    "df_C_Per_Product=witch.pd.read_csv('./data/Customer_per_product.csv',encoding='cp1252').drop_duplicates()\n",
    "df_C_NPS_Extend=witch.pd.read_csv('./data/Customer_NPS_Extended.csv',encoding='cp1252').drop_duplicates()\n",
    "df_C_NPS_Product=witch.pd.read_csv('./data/NPS_Customers_with_Products.csv',encoding='cp1252').drop_duplicates()\n"
   ]
  },
  {
   "cell_type": "code",
   "execution_count": 3,
   "metadata": {},
   "outputs": [
    {
     "name": "stdout",
     "output_type": "stream",
     "text": [
      "Initial ......\n"
     ]
    },
    {
     "data": {
      "text/plain": [
       "<witcher.Model_Generator at 0x1df9ab07f08>"
      ]
     },
     "execution_count": 3,
     "metadata": {},
     "output_type": "execute_result"
    }
   ],
   "source": [
    "witch.Model_Generator(df_C_Per_Product,df_C_NPS_Product,df_C_NPS_Extend)"
   ]
  },
  {
   "cell_type": "code",
   "execution_count": 5,
   "metadata": {},
   "outputs": [],
   "source": [
    "products=witch.Product_Recommender(\"CIFAH*00(SHABCO\")"
   ]
  },
  {
   "cell_type": "code",
   "execution_count": 6,
   "metadata": {},
   "outputs": [
    {
     "name": "stdout",
     "output_type": "stream",
     "text": [
      "{'Popularity_based_suggestion': [{'CustomerCount': 9103,\n",
      "                                  'ProductCode': 'PROD0053',\n",
      "                                  'ProductName': 'Small Business Chequing',\n",
      "                                  'SalesCategoryCornerstoneID': 'DAYTODAY'},\n",
      "                                 {'CustomerCount': 11918,\n",
      "                                  'ProductCode': 'PROD0054',\n",
      "                                  'ProductName': 'Small Business Savings',\n",
      "                                  'SalesCategoryCornerstoneID': 'DAYTODAY'},\n",
      "                                 {'CustomerCount': 980,\n",
      "                                  'ProductCode': 'PROD0055',\n",
      "                                  'ProductName': 'Small Business Term Deposits',\n",
      "                                  'SalesCategoryCornerstoneID': 'INVESTMENT'},\n",
      "                                 {'CustomerCount': 1699,\n",
      "                                  'ProductCode': 'PROD0056',\n",
      "                                  'ProductName': 'Small Business Credit Cards',\n",
      "                                  'SalesCategoryCornerstoneID': 'DAYTODAY'},\n",
      "                                 {'CustomerCount': 1079,\n",
      "                                  'ProductCode': 'PROD0063',\n",
      "                                  'ProductName': 'Small Business Credit Life '\n",
      "                                                 'Insurance',\n",
      "                                  'SalesCategoryCornerstoneID': 'INSURANCE'},\n",
      "                                 {'CustomerCount': 871,\n",
      "                                  'ProductCode': 'PROD0067',\n",
      "                                  'ProductName': 'Small Business Credit Health '\n",
      "                                                 'Insurance',\n",
      "                                  'SalesCategoryCornerstoneID': 'INSURANCE'},\n",
      "                                 {'CustomerCount': 1370,\n",
      "                                  'ProductCode': 'PROD0082',\n",
      "                                  'ProductName': 'Small Business POS',\n",
      "                                  'SalesCategoryCornerstoneID': 'DAYTODAY'},\n",
      "                                 {'CustomerCount': 502,\n",
      "                                  'ProductCode': 'PROD0190',\n",
      "                                  'ProductName': 'Small Business Overdraft ',\n",
      "                                  'SalesCategoryCornerstoneID': 'BORROWING'},\n",
      "                                 {'CustomerCount': 588,\n",
      "                                  'ProductCode': 'PROD0203',\n",
      "                                  'ProductName': 'Small Business ASP Deposits',\n",
      "                                  'SalesCategoryCornerstoneID': 'DAYTODAY'}],\n",
      " 'User_similar': [{'CustomerCount': 58408,\n",
      "                   'ProductCode': 'PROD0001',\n",
      "                   'ProductName': 'Everyday Banking (Transactional) OR '\n",
      "                                  'Chequing Accou',\n",
      "                   'SalesCategoryCornerstoneID': 'DAYTODAY'},\n",
      "                  {'CustomerCount': 46398,\n",
      "                   'ProductCode': 'PROD0036',\n",
      "                   'ProductName': 'Internet Banking',\n",
      "                   'SalesCategoryCornerstoneID': 'DAYTODAY'},\n",
      "                  {'CustomerCount': 62850,\n",
      "                   'ProductCode': 'PROD0002',\n",
      "                   'ProductName': 'Savings Account',\n",
      "                   'SalesCategoryCornerstoneID': 'DAYTODAY'},\n",
      "                  {'CustomerCount': 39790,\n",
      "                   'ProductCode': 'PROD0038',\n",
      "                   'ProductName': 'Mobile Banking',\n",
      "                   'SalesCategoryCornerstoneID': 'DAYTODAY'}],\n",
      " 'products_neighbors': [{'CustomerCount': 986,\n",
      "                         'ProductCode': 'PROD6180',\n",
      "                         'ProductName': 'ScotiaLine',\n",
      "                         'SalesCategoryCornerstoneID': 'BORROWING'},\n",
      "                        {'CustomerCount': 2747,\n",
      "                         'ProductCode': 'PROD0414',\n",
      "                         'ProductName': 'COVID - CAP Call',\n",
      "                         'SalesCategoryCornerstoneID': 'ANCILLARY'},\n",
      "                        {'CustomerCount': 11918,\n",
      "                         'ProductCode': 'PROD0054',\n",
      "                         'ProductName': 'Small Business Savings',\n",
      "                         'SalesCategoryCornerstoneID': 'DAYTODAY'}],\n",
      " 'user_product': [{'CustomerCount': 2061,\n",
      "                   'ProductCode': 'PROD0052',\n",
      "                   'ProductName': 'Small Business Term Loan',\n",
      "                   'SalesCategoryCornerstoneID': 'BORROWING'},\n",
      "                  {'CustomerCount': 3118,\n",
      "                   'ProductCode': 'PROD0059',\n",
      "                   'ProductName': 'Customer Assistance Program',\n",
      "                   'SalesCategoryCornerstoneID': 'ANCILLARY'},\n",
      "                  {'CustomerCount': 14072,\n",
      "                   'ProductCode': 'PROD0065',\n",
      "                   'ProductName': 'Small Business CMS',\n",
      "                   'SalesCategoryCornerstoneID': 'DAYTODAY'}]}\n"
     ]
    }
   ],
   "source": [
    "witch.pprint.pprint(products.report)"
   ]
  }
 ],
 "metadata": {
  "kernelspec": {
   "display_name": "Python 3",
   "language": "python",
   "name": "python3"
  },
  "language_info": {
   "codemirror_mode": {
    "name": "ipython",
    "version": 3
   },
   "file_extension": ".py",
   "mimetype": "text/x-python",
   "name": "python",
   "nbconvert_exporter": "python",
   "pygments_lexer": "ipython3",
   "version": "3.7.6"
  }
 },
 "nbformat": 4,
 "nbformat_minor": 4
}
